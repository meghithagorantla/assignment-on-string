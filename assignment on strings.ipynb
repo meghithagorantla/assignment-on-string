{
 "cells": [
  {
   "cell_type": "code",
   "execution_count": null,
   "id": "0d2522b7",
   "metadata": {},
   "outputs": [],
   "source": [
    "#1.Write a python program to convert a string to \n",
    "#lower case"
   ]
  },
  {
   "cell_type": "code",
   "execution_count": 1,
   "id": "e26d51c2",
   "metadata": {},
   "outputs": [
    {
     "name": "stdout",
     "output_type": "stream",
     "text": [
      "DFVBUHJDFBVUYGH\n"
     ]
    },
    {
     "data": {
      "text/plain": [
       "'dfvbuhjdfbvuygh'"
      ]
     },
     "execution_count": 1,
     "metadata": {},
     "output_type": "execute_result"
    }
   ],
   "source": [
    "x=input()\n",
    "x.lower()"
   ]
  },
  {
   "cell_type": "code",
   "execution_count": null,
   "id": "9b98d037",
   "metadata": {},
   "outputs": [],
   "source": [
    "#6.Write a python program where you have \n",
    "#different variable which contains your name \n",
    "#,sex,age, phone no ,fathers name and mothers \n",
    "#name.And by using this variable create a\n",
    "#variable named bio-data where you will use all \n",
    "#this variable"
   ]
  },
  {
   "cell_type": "code",
   "execution_count": 7,
   "id": "5b9d5895",
   "metadata": {},
   "outputs": [
    {
     "name": "stdout",
     "output_type": "stream",
     "text": [
      "name: maggie\n",
      "sex: female\n",
      "age: 21\n",
      "phone no: 9347579767\n",
      "father name: vinay kumar\n",
      "mother name: jyothi rain\n"
     ]
    },
    {
     "data": {
      "text/plain": [
       "'name: maggie, sex: female, age: 21, phoneno:9347579767, fathername: vinay kumar, mothername: jyothi rain'"
      ]
     },
     "execution_count": 7,
     "metadata": {},
     "output_type": "execute_result"
    }
   ],
   "source": [
    "name=input(\"name: \")\n",
    "sex=input(\"sex: \")\n",
    "age=int(input(\"age: \"))\n",
    "phoneno=int(input(\"phone no: \"))\n",
    "fathername=input(\"father name: \")\n",
    "mothername=input(\"mother name: \")\n",
    "bio_data=\"name: {0}, sex: {1}, age: {2}, phoneno:{3}, fathername: {4}, mothername: {5}\"\n",
    "bio_data.format(name,sex,age,phoneno,fathername,mothername)"
   ]
  },
  {
   "cell_type": "code",
   "execution_count": null,
   "id": "4e337adc",
   "metadata": {},
   "outputs": [],
   "source": [
    "#7.Write a python program to count how many \n",
    "#times “@” occurred\n",
    "#“name1.@gmail.com,name2.@gmail.com,name\n",
    "#3.@gmail.com\""
   ]
  },
  {
   "cell_type": "code",
   "execution_count": 11,
   "id": "d5eed569",
   "metadata": {},
   "outputs": [
    {
     "data": {
      "text/plain": [
       "3"
      ]
     },
     "execution_count": 11,
     "metadata": {},
     "output_type": "execute_result"
    }
   ],
   "source": [
    "x=\"name1.@gmail.com,name2.@gmail.com,name3.@gmail.com\"\n",
    "x.count(\"@\")"
   ]
  },
  {
   "cell_type": "code",
   "execution_count": null,
   "id": "07b292c9",
   "metadata": {},
   "outputs": [],
   "source": [
    "#8.Write a python program to get only names from \n",
    "#the string \n",
    "#“name1.@gmail.com,name2.@gmail.com,name\n",
    "#3.@gmail.com”"
   ]
  },
  {
   "cell_type": "code",
   "execution_count": 18,
   "id": "017cd8fe",
   "metadata": {},
   "outputs": [
    {
     "data": {
      "text/plain": [
       "'name1,name2,name3'"
      ]
     },
     "execution_count": 18,
     "metadata": {},
     "output_type": "execute_result"
    }
   ],
   "source": [
    "x=\"name1.@gmail.com,name2.@gmail.com,name3.@gmail.com\"\n",
    "x.replace(\".@gmail.com\",\"\")"
   ]
  },
  {
   "cell_type": "code",
   "execution_count": null,
   "id": "85c3ecb2",
   "metadata": {},
   "outputs": [],
   "source": [
    "#9.Given a string of odd length greater that 9, \n",
    "#return a new string made of the middle three \n",
    "#characters of a given String"
   ]
  },
  {
   "cell_type": "code",
   "execution_count": 19,
   "id": "2b4fcc06",
   "metadata": {},
   "outputs": [
    {
     "data": {
      "text/plain": [
       "11"
      ]
     },
     "execution_count": 19,
     "metadata": {},
     "output_type": "execute_result"
    }
   ],
   "source": [
    "x=\"Gvinaykumar\"\n",
    "len(x)"
   ]
  },
  {
   "cell_type": "code",
   "execution_count": 20,
   "id": "f8d8dded",
   "metadata": {},
   "outputs": [
    {
     "data": {
      "text/plain": [
       "'ayk'"
      ]
     },
     "execution_count": 20,
     "metadata": {},
     "output_type": "execute_result"
    }
   ],
   "source": [
    "x[len(x)//2-1]+x[len(x)//2]+x[len(x)//2+1]"
   ]
  },
  {
   "cell_type": "code",
   "execution_count": null,
   "id": "1a1ebe50",
   "metadata": {},
   "outputs": [],
   "source": [
    "#10.Write a python program to insert a 2 string \n",
    "#in the middle of 1 string"
   ]
  },
  {
   "cell_type": "code",
   "execution_count": 4,
   "id": "7788d251",
   "metadata": {},
   "outputs": [
    {
     "data": {
      "text/plain": [
       "'pyjavahon'"
      ]
     },
     "execution_count": 4,
     "metadata": {},
     "output_type": "execute_result"
    }
   ],
   "source": [
    "str1=\"python\"\n",
    "str2=\"java\"\n",
    "str1[:len(str1)//2-1]+str2+str1[len(str1)//2:]"
   ]
  },
  {
   "cell_type": "code",
   "execution_count": null,
   "id": "fcbd721f",
   "metadata": {},
   "outputs": [],
   "source": [
    "#11.Write a program to remove vowels from \n",
    "#the entire alphabets"
   ]
  },
  {
   "cell_type": "code",
   "execution_count": null,
   "id": "82dc3e99",
   "metadata": {},
   "outputs": [],
   "source": []
  },
  {
   "cell_type": "code",
   "execution_count": 17,
   "id": "a6d20aaf",
   "metadata": {},
   "outputs": [
    {
     "name": "stdout",
     "output_type": "stream",
     "text": [
      "abcdefghijklmnopqrstuvwxyz\n"
     ]
    },
    {
     "data": {
      "text/plain": [
       "'bcdfghjklmnpqrstvwxyz'"
      ]
     },
     "execution_count": 17,
     "metadata": {},
     "output_type": "execute_result"
    }
   ],
   "source": [
    "x=input()\n",
    "x.replace(\"a\",\"\").replace(\"e\",\"\").replace(\"i\",\"\").replace(\"o\",\"\").replace(\"u\",\"\")"
   ]
  },
  {
   "cell_type": "code",
   "execution_count": null,
   "id": "5210c472",
   "metadata": {},
   "outputs": [],
   "source": [
    "\n"
   ]
  },
  {
   "cell_type": "code",
   "execution_count": null,
   "id": "1ceb0620",
   "metadata": {},
   "outputs": [],
   "source": [
    "#2.Write a python program to convert only odd \n",
    "#indexed characters to lower case"
   ]
  },
  {
   "cell_type": "code",
   "execution_count": 9,
   "id": "007f3ccc",
   "metadata": {},
   "outputs": [
    {
     "name": "stdout",
     "output_type": "stream",
     "text": [
      "enter the wordPYTHON\n",
      " pYtHoN\n"
     ]
    }
   ],
   "source": [
    "x=input(\"enter the word\")\n",
    "y=\" \"\n",
    "for i in range(6):\n",
    "    if i%2==0:\n",
    "        y=y+x[i].lower()\n",
    "    else:\n",
    "        y=y+x[i].upper()\n",
    "print(y)"
   ]
  },
  {
   "cell_type": "code",
   "execution_count": null,
   "id": "a5f0e60b",
   "metadata": {},
   "outputs": [],
   "source": [
    "#3.Write a python program to convert only even \n",
    "#indexed characters to lower case"
   ]
  },
  {
   "cell_type": "code",
   "execution_count": 11,
   "id": "c4c423f1",
   "metadata": {},
   "outputs": [
    {
     "name": "stdout",
     "output_type": "stream",
     "text": [
      "enter the wordPYTHON\n",
      " PyThOn\n"
     ]
    }
   ],
   "source": [
    "x=input(\"enter the word\")\n",
    "y=\" \"\n",
    "for i in range(6):\n",
    "    if i%2==0:\n",
    "        y=y+x[i].upper()\n",
    "    else:\n",
    "        y=y+x[i].lower()\n",
    "print(y)"
   ]
  },
  {
   "cell_type": "code",
   "execution_count": null,
   "id": "37708392",
   "metadata": {},
   "outputs": [],
   "source": [
    "#4.write a python program to convert only odd \n",
    "#indexed characters to upper case"
   ]
  },
  {
   "cell_type": "code",
   "execution_count": 14,
   "id": "56f796d5",
   "metadata": {},
   "outputs": [
    {
     "name": "stdout",
     "output_type": "stream",
     "text": [
      "enter the wordpython\n",
      " pYtHoN\n"
     ]
    }
   ],
   "source": [
    "x=input(\"enter the word\")\n",
    "y=\" \"\n",
    "for i in range(6):\n",
    "    if i%2==0:\n",
    "        y=y+x[i].lower()\n",
    "    else:\n",
    "        y=y+x[i].upper()\n",
    "print(y)"
   ]
  },
  {
   "cell_type": "code",
   "execution_count": null,
   "id": "1eae4c1d",
   "metadata": {},
   "outputs": [],
   "source": [
    "#5.Write a python program to convert only even \n",
    "#indexed characters to upper case"
   ]
  },
  {
   "cell_type": "code",
   "execution_count": 15,
   "id": "37a7bfb8",
   "metadata": {},
   "outputs": [
    {
     "name": "stdout",
     "output_type": "stream",
     "text": [
      "enter the wordpython\n",
      " PyThOn\n"
     ]
    }
   ],
   "source": [
    "x=input(\"enter the word\")\n",
    "y=\" \"\n",
    "for i in range(6):\n",
    "    if i%2==0:\n",
    "        y=y+x[i].upper()\n",
    "    else:\n",
    "        y=y+x[i].lower()\n",
    "print(y)"
   ]
  },
  {
   "cell_type": "code",
   "execution_count": null,
   "id": "c3e8f9a5",
   "metadata": {},
   "outputs": [],
   "source": []
  }
 ],
 "metadata": {
  "kernelspec": {
   "display_name": "Python 3 (ipykernel)",
   "language": "python",
   "name": "python3"
  },
  "language_info": {
   "codemirror_mode": {
    "name": "ipython",
    "version": 3
   },
   "file_extension": ".py",
   "mimetype": "text/x-python",
   "name": "python",
   "nbconvert_exporter": "python",
   "pygments_lexer": "ipython3",
   "version": "3.9.13"
  }
 },
 "nbformat": 4,
 "nbformat_minor": 5
}
